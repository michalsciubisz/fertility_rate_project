{
 "cells": [
  {
   "cell_type": "markdown",
   "metadata": {},
   "source": [
    "# Fertility rate - project for Data Analysis course"
   ]
  },
  {
   "cell_type": "markdown",
   "metadata": {},
   "source": [
    "## Problem formulation"
   ]
  },
  {
   "cell_type": "markdown",
   "metadata": {},
   "source": [
    "In recent decades, fertility rates have exhibited notable fluctuations globally, raising concerns about their implications for population dynamics, economic development, and social welfare. Understanding the intricate interplay between socioeconomic variables and fertility rates is essential for policymakers, economists, and social scientists alike. This project aims to delve into this complex relationship, focusing on the impact of Gross Domestic Product (GDP), education, women's labor force participation, and contraception prevalence on fertility rates."
   ]
  },
  {
   "cell_type": "markdown",
   "metadata": {},
   "source": [
    "Creating model in the context of the described problem is to develop a tool that can simulate or predict the relationship between various socioeconomic variables and fertility rates. By doing so it is possible to obtain insight into how changes in these factors might influence fertility rates which might be crucial for economists and social scientists in making informed decisions."
   ]
  },
  {
   "cell_type": "markdown",
   "metadata": {},
   "source": [
    "The dataset used for this project is sourced from [ourworldindata](https://ourworldindata.org/). Data related to labor force, GDP and education can be found [here](https://ourworldindata.org/fertility-rate),\n",
    "the data related to spread of contraception can be found [here](https://ourworldindata.org/grapher/fertility-vs-contraception). </br>\n",
    "* GDP data contains information about: ['Entity', 'Code for entity', 'Year', 'Fertility rate', 'GDP per capita', 'Population (historical estimates)', 'Continent'] </br>\n",
    "* Labor force data contains information about: ['Entity', 'Code for entity', 'Year', 'Labor force participation rate, female (% of female population ages 15+), 'Fertility rate', 'Population (historical estimates)', 'Continent'] </br>\n",
    "* Eductaion data contains information about: ['Entity', 'Code for entity', 'Year', 'Fertility rate', 'Combined - average years of education for 15-64 years female youth and adults', 'Population (historical estimates)', 'Continent'] </br>\n",
    "* Contraception data contains information about: ['Entity', 'Code for entity', 'Year', 'Fertility rate', 'Contraceptive prevalence, any method (% of married women ages 15-49)', 'Continent']"
   ]
  },
  {
   "cell_type": "code",
   "execution_count": 1,
   "metadata": {
    "metadata": {}
   },
   "outputs": [],
   "source": [
    "#TODO DAG model (is it directed acyclic graph?)\n",
    "#TODO Confoundings (pipe, fork, collider) -> they are related to DAG propably"
   ]
  },
  {
   "cell_type": "markdown",
   "metadata": {},
   "source": [
    "### Importing libraries"
   ]
  },
  {
   "cell_type": "code",
   "execution_count": 2,
   "metadata": {
    "metadata": {}
   },
   "outputs": [
    {
     "name": "stderr",
     "output_type": "stream",
     "text": [
      "/usr/local/lib/python3.9/site-packages/tqdm/auto.py:22: TqdmWarning: IProgress not found. Please update jupyter and ipywidgets. See https://ipywidgets.readthedocs.io/en/stable/user_install.html\n",
      "  from .autonotebook import tqdm as notebook_tqdm\n"
     ]
    }
   ],
   "source": [
    "import pandas as pd\n",
    "import matplotlib.pyplot as plt\n",
    "import numpy as np\n",
    "\n",
    "from cmdstanpy import CmdStanModel #It has to be used in container"
   ]
  },
  {
   "cell_type": "markdown",
   "metadata": {},
   "source": [
    "### Reading data from files"
   ]
  },
  {
   "cell_type": "code",
   "execution_count": 3,
   "metadata": {
    "metadata": {}
   },
   "outputs": [],
   "source": [
    "gdp_df = pd.read_csv('children-per-woman-fertility-rate-vs-level-of-prosperity.csv')\n",
    "labor_df = pd.read_csv('fertility-and-female-labor-force-participation.csv')\n",
    "education_df = pd.read_csv('womens-educational-attainment-vs-fertility.csv')\n",
    "contraception_df = pd.read_csv('fertility-vs-contraception.csv')"
   ]
  },
  {
   "cell_type": "markdown",
   "metadata": {},
   "source": [
    "## Data preprocessing"
   ]
  },
  {
   "cell_type": "markdown",
   "metadata": {},
   "source": [
    "All data has been cleaned up, all unnecesary columns has been removed. It was performed by using .drop instruction. Also to make merging data easier to identify, the column name has been changed in some columns by using .rename function. Described processes has been repeated for each dataframe. Removed columns weren't relevant to identify each dataframe or they were useless in terms of analysis."
   ]
  },
  {
   "cell_type": "markdown",
   "metadata": {},
   "source": [
    "Since all fertality rates indicator are all the same across dataframes, the columns responsible for holding value there was also dropped expect for one dataframe."
   ]
  },
  {
   "cell_type": "markdown",
   "metadata": {},
   "source": [
    "### Cleaning up GDP dataframe"
   ]
  },
  {
   "cell_type": "code",
   "execution_count": 4,
   "metadata": {
    "metadata": {}
   },
   "outputs": [
    {
     "data": {
      "text/plain": [
       "Index(['Entity', 'Code', 'Year',\n",
       "       'Fertility rate - Sex: all - Age: all - Variant: estimates',\n",
       "       'GDP per capita (output, multiple price benchmarks)',\n",
       "       'Population (historical estimates)', 'Continent'],\n",
       "      dtype='object')"
      ]
     },
     "execution_count": 4,
     "metadata": {},
     "output_type": "execute_result"
    }
   ],
   "source": [
    "gdp_df.columns"
   ]
  },
  {
   "cell_type": "code",
   "execution_count": 5,
   "metadata": {
    "metadata": {}
   },
   "outputs": [
    {
     "data": {
      "text/html": [
       "<div>\n",
       "<style scoped>\n",
       "    .dataframe tbody tr th:only-of-type {\n",
       "        vertical-align: middle;\n",
       "    }\n",
       "\n",
       "    .dataframe tbody tr th {\n",
       "        vertical-align: top;\n",
       "    }\n",
       "\n",
       "    .dataframe thead th {\n",
       "        text-align: right;\n",
       "    }\n",
       "</style>\n",
       "<table border=\"1\" class=\"dataframe\">\n",
       "  <thead>\n",
       "    <tr style=\"text-align: right;\">\n",
       "      <th></th>\n",
       "      <th>Entity</th>\n",
       "      <th>Year</th>\n",
       "      <th>Fertility rate</th>\n",
       "      <th>GDP per capita</th>\n",
       "    </tr>\n",
       "  </thead>\n",
       "  <tbody>\n",
       "    <tr>\n",
       "      <th>0</th>\n",
       "      <td>Abkhazia</td>\n",
       "      <td>2015</td>\n",
       "      <td>NaN</td>\n",
       "      <td>NaN</td>\n",
       "    </tr>\n",
       "    <tr>\n",
       "      <th>1</th>\n",
       "      <td>Afghanistan</td>\n",
       "      <td>1950</td>\n",
       "      <td>7.2484</td>\n",
       "      <td>NaN</td>\n",
       "    </tr>\n",
       "    <tr>\n",
       "      <th>2</th>\n",
       "      <td>Afghanistan</td>\n",
       "      <td>1951</td>\n",
       "      <td>7.2596</td>\n",
       "      <td>NaN</td>\n",
       "    </tr>\n",
       "    <tr>\n",
       "      <th>3</th>\n",
       "      <td>Afghanistan</td>\n",
       "      <td>1952</td>\n",
       "      <td>7.2601</td>\n",
       "      <td>NaN</td>\n",
       "    </tr>\n",
       "    <tr>\n",
       "      <th>4</th>\n",
       "      <td>Afghanistan</td>\n",
       "      <td>1953</td>\n",
       "      <td>7.2662</td>\n",
       "      <td>NaN</td>\n",
       "    </tr>\n",
       "  </tbody>\n",
       "</table>\n",
       "</div>"
      ],
      "text/plain": [
       "        Entity  Year  Fertility rate  GDP per capita\n",
       "0     Abkhazia  2015             NaN             NaN\n",
       "1  Afghanistan  1950          7.2484             NaN\n",
       "2  Afghanistan  1951          7.2596             NaN\n",
       "3  Afghanistan  1952          7.2601             NaN\n",
       "4  Afghanistan  1953          7.2662             NaN"
      ]
     },
     "execution_count": 5,
     "metadata": {},
     "output_type": "execute_result"
    }
   ],
   "source": [
    "gdp_df.drop(columns=['Code', 'Population (historical estimates)', 'Continent'], inplace=True)\n",
    "gdp_df.rename(columns={'Fertility rate - Sex: all - Age: all - Variant: estimates':'Fertility rate', 'GDP per capita (output, multiple price benchmarks)':'GDP per capita'}, inplace=True)\n",
    "gdp_df.head()"
   ]
  },
  {
   "cell_type": "markdown",
   "metadata": {},
   "source": [
    "### Cleaning up Labor dataframe"
   ]
  },
  {
   "cell_type": "code",
   "execution_count": 6,
   "metadata": {
    "metadata": {}
   },
   "outputs": [
    {
     "data": {
      "text/plain": [
       "Index(['Entity', 'Code', 'Year',\n",
       "       'Labor force participation rate, female (% of female population ages 15+) (national estimate)',\n",
       "       'Fertility rate - Sex: all - Age: all - Variant: estimates',\n",
       "       'Population (historical estimates)', 'Continent'],\n",
       "      dtype='object')"
      ]
     },
     "execution_count": 6,
     "metadata": {},
     "output_type": "execute_result"
    }
   ],
   "source": [
    "labor_df.columns"
   ]
  },
  {
   "cell_type": "code",
   "execution_count": 7,
   "metadata": {
    "metadata": {}
   },
   "outputs": [
    {
     "data": {
      "text/html": [
       "<div>\n",
       "<style scoped>\n",
       "    .dataframe tbody tr th:only-of-type {\n",
       "        vertical-align: middle;\n",
       "    }\n",
       "\n",
       "    .dataframe tbody tr th {\n",
       "        vertical-align: top;\n",
       "    }\n",
       "\n",
       "    .dataframe thead th {\n",
       "        text-align: right;\n",
       "    }\n",
       "</style>\n",
       "<table border=\"1\" class=\"dataframe\">\n",
       "  <thead>\n",
       "    <tr style=\"text-align: right;\">\n",
       "      <th></th>\n",
       "      <th>Entity</th>\n",
       "      <th>Year</th>\n",
       "      <th>Labor force rate</th>\n",
       "    </tr>\n",
       "  </thead>\n",
       "  <tbody>\n",
       "    <tr>\n",
       "      <th>0</th>\n",
       "      <td>Abkhazia</td>\n",
       "      <td>2015</td>\n",
       "      <td>NaN</td>\n",
       "    </tr>\n",
       "    <tr>\n",
       "      <th>1</th>\n",
       "      <td>Afghanistan</td>\n",
       "      <td>1979</td>\n",
       "      <td>6.830</td>\n",
       "    </tr>\n",
       "    <tr>\n",
       "      <th>2</th>\n",
       "      <td>Afghanistan</td>\n",
       "      <td>2008</td>\n",
       "      <td>43.790</td>\n",
       "    </tr>\n",
       "    <tr>\n",
       "      <th>3</th>\n",
       "      <td>Afghanistan</td>\n",
       "      <td>2012</td>\n",
       "      <td>16.015</td>\n",
       "    </tr>\n",
       "    <tr>\n",
       "      <th>4</th>\n",
       "      <td>Afghanistan</td>\n",
       "      <td>2014</td>\n",
       "      <td>25.784</td>\n",
       "    </tr>\n",
       "  </tbody>\n",
       "</table>\n",
       "</div>"
      ],
      "text/plain": [
       "        Entity  Year  Labor force rate\n",
       "0     Abkhazia  2015               NaN\n",
       "1  Afghanistan  1979             6.830\n",
       "2  Afghanistan  2008            43.790\n",
       "3  Afghanistan  2012            16.015\n",
       "4  Afghanistan  2014            25.784"
      ]
     },
     "execution_count": 7,
     "metadata": {},
     "output_type": "execute_result"
    }
   ],
   "source": [
    "labor_df.drop(columns=['Code','Population (historical estimates)', 'Continent', 'Fertility rate - Sex: all - Age: all - Variant: estimates'], inplace=True)\n",
    "labor_df.rename(columns={'Labor force participation rate, female (% of female population ages 15+) (national estimate)':'Labor force rate'}, inplace=True)\n",
    "labor_df.head()"
   ]
  },
  {
   "cell_type": "markdown",
   "metadata": {},
   "source": [
    "### Cleaning up Education dataframe"
   ]
  },
  {
   "cell_type": "code",
   "execution_count": 8,
   "metadata": {
    "metadata": {}
   },
   "outputs": [
    {
     "data": {
      "text/plain": [
       "Index(['Entity', 'Code', 'Year',\n",
       "       'Fertility rate - Sex: all - Age: all - Variant: estimates',\n",
       "       'Combined - average years of education for 15-64 years female youth and adults',\n",
       "       'Population (historical estimates)', 'Continent'],\n",
       "      dtype='object')"
      ]
     },
     "execution_count": 8,
     "metadata": {},
     "output_type": "execute_result"
    }
   ],
   "source": [
    "education_df.columns"
   ]
  },
  {
   "cell_type": "code",
   "execution_count": 9,
   "metadata": {
    "metadata": {}
   },
   "outputs": [
    {
     "data": {
      "text/html": [
       "<div>\n",
       "<style scoped>\n",
       "    .dataframe tbody tr th:only-of-type {\n",
       "        vertical-align: middle;\n",
       "    }\n",
       "\n",
       "    .dataframe tbody tr th {\n",
       "        vertical-align: top;\n",
       "    }\n",
       "\n",
       "    .dataframe thead th {\n",
       "        text-align: right;\n",
       "    }\n",
       "</style>\n",
       "<table border=\"1\" class=\"dataframe\">\n",
       "  <thead>\n",
       "    <tr style=\"text-align: right;\">\n",
       "      <th></th>\n",
       "      <th>Entity</th>\n",
       "      <th>Year</th>\n",
       "      <th>Education years</th>\n",
       "    </tr>\n",
       "  </thead>\n",
       "  <tbody>\n",
       "    <tr>\n",
       "      <th>0</th>\n",
       "      <td>Abkhazia</td>\n",
       "      <td>2015</td>\n",
       "      <td>NaN</td>\n",
       "    </tr>\n",
       "    <tr>\n",
       "      <th>1</th>\n",
       "      <td>Afghanistan</td>\n",
       "      <td>1950</td>\n",
       "      <td>0.08</td>\n",
       "    </tr>\n",
       "    <tr>\n",
       "      <th>2</th>\n",
       "      <td>Afghanistan</td>\n",
       "      <td>1951</td>\n",
       "      <td>NaN</td>\n",
       "    </tr>\n",
       "    <tr>\n",
       "      <th>3</th>\n",
       "      <td>Afghanistan</td>\n",
       "      <td>1952</td>\n",
       "      <td>NaN</td>\n",
       "    </tr>\n",
       "    <tr>\n",
       "      <th>4</th>\n",
       "      <td>Afghanistan</td>\n",
       "      <td>1953</td>\n",
       "      <td>NaN</td>\n",
       "    </tr>\n",
       "  </tbody>\n",
       "</table>\n",
       "</div>"
      ],
      "text/plain": [
       "        Entity  Year  Education years\n",
       "0     Abkhazia  2015              NaN\n",
       "1  Afghanistan  1950             0.08\n",
       "2  Afghanistan  1951              NaN\n",
       "3  Afghanistan  1952              NaN\n",
       "4  Afghanistan  1953              NaN"
      ]
     },
     "execution_count": 9,
     "metadata": {},
     "output_type": "execute_result"
    }
   ],
   "source": [
    "education_df.drop(columns=['Code','Population (historical estimates)', 'Continent', 'Fertility rate - Sex: all - Age: all - Variant: estimates'], inplace=True)\n",
    "education_df.rename(columns={'Combined - average years of education for 15-64 years female youth and adults':'Education years'}, inplace=True)\n",
    "education_df.head()"
   ]
  },
  {
   "cell_type": "markdown",
   "metadata": {},
   "source": [
    "### Cleaning up Contraception dataframe"
   ]
  },
  {
   "cell_type": "code",
   "execution_count": 10,
   "metadata": {
    "metadata": {}
   },
   "outputs": [
    {
     "data": {
      "text/plain": [
       "Index(['Entity', 'Code', 'Year', 'Fertility rate, total (births per woman)',\n",
       "       'Contraceptive prevalence, any method (% of married women ages 15-49)',\n",
       "       'Continent'],\n",
       "      dtype='object')"
      ]
     },
     "execution_count": 10,
     "metadata": {},
     "output_type": "execute_result"
    }
   ],
   "source": [
    "contraception_df.columns"
   ]
  },
  {
   "cell_type": "code",
   "execution_count": 11,
   "metadata": {
    "metadata": {}
   },
   "outputs": [
    {
     "data": {
      "text/html": [
       "<div>\n",
       "<style scoped>\n",
       "    .dataframe tbody tr th:only-of-type {\n",
       "        vertical-align: middle;\n",
       "    }\n",
       "\n",
       "    .dataframe tbody tr th {\n",
       "        vertical-align: top;\n",
       "    }\n",
       "\n",
       "    .dataframe thead th {\n",
       "        text-align: right;\n",
       "    }\n",
       "</style>\n",
       "<table border=\"1\" class=\"dataframe\">\n",
       "  <thead>\n",
       "    <tr style=\"text-align: right;\">\n",
       "      <th></th>\n",
       "      <th>Entity</th>\n",
       "      <th>Year</th>\n",
       "      <th>Contraceptive prevalence</th>\n",
       "    </tr>\n",
       "  </thead>\n",
       "  <tbody>\n",
       "    <tr>\n",
       "      <th>0</th>\n",
       "      <td>Abkhazia</td>\n",
       "      <td>2015</td>\n",
       "      <td>NaN</td>\n",
       "    </tr>\n",
       "    <tr>\n",
       "      <th>1</th>\n",
       "      <td>Afghanistan</td>\n",
       "      <td>1960</td>\n",
       "      <td>NaN</td>\n",
       "    </tr>\n",
       "    <tr>\n",
       "      <th>2</th>\n",
       "      <td>Afghanistan</td>\n",
       "      <td>1961</td>\n",
       "      <td>NaN</td>\n",
       "    </tr>\n",
       "    <tr>\n",
       "      <th>3</th>\n",
       "      <td>Afghanistan</td>\n",
       "      <td>1962</td>\n",
       "      <td>NaN</td>\n",
       "    </tr>\n",
       "    <tr>\n",
       "      <th>4</th>\n",
       "      <td>Afghanistan</td>\n",
       "      <td>1963</td>\n",
       "      <td>NaN</td>\n",
       "    </tr>\n",
       "  </tbody>\n",
       "</table>\n",
       "</div>"
      ],
      "text/plain": [
       "        Entity  Year  Contraceptive prevalence\n",
       "0     Abkhazia  2015                       NaN\n",
       "1  Afghanistan  1960                       NaN\n",
       "2  Afghanistan  1961                       NaN\n",
       "3  Afghanistan  1962                       NaN\n",
       "4  Afghanistan  1963                       NaN"
      ]
     },
     "execution_count": 11,
     "metadata": {},
     "output_type": "execute_result"
    }
   ],
   "source": [
    "contraception_df.drop(columns=['Code','Continent','Fertility rate, total (births per woman)'], inplace=True)\n",
    "contraception_df.rename(columns={'Contraceptive prevalence, any method (% of married women ages 15-49)': 'Contraceptive prevalence'}, inplace=True)\n",
    "contraception_df.head()"
   ]
  },
  {
   "cell_type": "markdown",
   "metadata": {},
   "source": [
    "### Merging data and preping data for further analysis"
   ]
  },
  {
   "cell_type": "markdown",
   "metadata": {},
   "source": [
    "In order to perform some more advanced actions to the dataset, it is necessary to merge dataset in one big dataset so that is easier to perform further analysis. The merged dataframe has multiple NaN values, which will be removed further."
   ]
  },
  {
   "cell_type": "code",
   "execution_count": 12,
   "metadata": {
    "metadata": {}
   },
   "outputs": [],
   "source": [
    "merged_df= gdp_df.merge(labor_df, on=['Entity', 'Year'])\\\n",
    "                           .merge(education_df, on=['Entity', 'Year'])\\\n",
    "                           .merge(contraception_df, on=['Entity', 'Year'])"
   ]
  },
  {
   "cell_type": "markdown",
   "metadata": {},
   "source": [
    "if there were 3 parameters: </br>\n",
    "education - 602 </br>\n",
    "contraceptive prevalence - 632 </br>\n",
    "Labor force rate - 163 </br>\n",
    "GDP per capita - 104 </br> "
   ]
  },
  {
   "cell_type": "code",
   "execution_count": 13,
   "metadata": {
    "metadata": {}
   },
   "outputs": [
    {
     "data": {
      "image/png": "[encoded data removed]",
      "text/plain": [
       "<Figure size 720x360 with 5 Axes>"
      ]
     },
     "metadata": {
      "needs_background": "light"
     },
     "output_type": "display_data"
    }
   ],
   "source": [
    "col_list = ['Fertility rate', 'GDP per capita', 'Labor force rate', 'Education years', 'Contraceptive prevalence']\n",
    "\n",
    "plt.figure(figsize=(10,5))\n",
    "for idx in range(len(col_list)):\n",
    "    plt.subplot(3,2,idx+1)\n",
    "    plt.hist(merged_df[col_list[idx]], bins=30)\n",
    "    plt.ylabel('Density')\n",
    "    plt.title(f'{col_list[idx]}')\n",
    "plt.tight_layout()\n",
    "plt.show()"
   ]
  },
  {
   "cell_type": "markdown",
   "metadata": {},
   "source": [
    "## Model"
   ]
  },
  {
   "cell_type": "code",
   "execution_count": 14,
   "metadata": {},
   "outputs": [],
   "source": [
    "#TODO Specify two models\n",
    "#TODO Explain difference between two models\n",
    "#TODO Is the difference justified?\n",
    "#TODO Are models sufficiently described?"
   ]
  },
  {
   "cell_type": "markdown",
   "metadata": {},
   "source": [
    "## Priors"
   ]
  },
  {
   "cell_type": "code",
   "execution_count": 15,
   "metadata": {
    "metadata": {}
   },
   "outputs": [],
   "source": [
    "prior_df = merged_df.drop(columns='Education years').dropna()"
   ]
  },
  {
   "cell_type": "markdown",
   "metadata": {},
   "source": [
    "### GDP"
   ]
  },
  {
   "cell_type": "code",
   "execution_count": 215,
   "metadata": {},
   "outputs": [
    {
     "name": "stderr",
     "output_type": "stream",
     "text": [
      "INFO:cmdstanpy:compiling stan file /home/projekt/prior_gdp.stan to exe file /home/projekt/prior_gdp\n",
      "INFO:cmdstanpy:compiled model executable: /home/projekt/prior_gdp\n"
     ]
    }
   ],
   "source": [
    "gdp_prior = CmdStanModel(stan_file='prior_gdp.stan')"
   ]
  },
  {
   "cell_type": "code",
   "execution_count": 337,
   "metadata": {
    "metadata": {}
   },
   "outputs": [],
   "source": [
    "data_simulation_gdp = {\n",
    "    'N': len(prior_df),\n",
    "    'gdp_per_capita': prior_df['GDP per capita'].values/1000,\n",
    "    'mu_alpha': np.log(prior_df['Fertility rate'].mean()),\n",
    "    'sig_alpha': np.log(prior_df['Fertility rate'].std()),\n",
    "    'mu_beta': 0.1,\n",
    "    'sig_beta': 0.05,\n",
    "    'shape' : 3,\n",
    "    'rate' : 1.75\n",
    "}"
   ]
  },
  {
   "cell_type": "code",
   "execution_count": 338,
   "metadata": {
    "metadata": {}
   },
   "outputs": [
    {
     "name": "stderr",
     "output_type": "stream",
     "text": [
      "INFO:cmdstanpy:CmdStan start processing\n",
      "chain 1 |\u001b[33m          \u001b[0m| 00:00 Status"
     ]
    },
    {
     "name": "stderr",
     "output_type": "stream",
     "text": [
      "chain 1 |\u001b[34m██████████\u001b[0m| 00:00 Sampling completed                       "
     ]
    },
    {
     "name": "stdout",
     "output_type": "stream",
     "text": [
      "                                                                                "
     ]
    },
    {
     "name": "stderr",
     "output_type": "stream",
     "text": [
      "\n",
      "INFO:cmdstanpy:CmdStan done processing.\n"
     ]
    },
    {
     "name": "stdout",
     "output_type": "stream",
     "text": [
      "\n"
     ]
    }
   ],
   "source": [
    "R = len(prior_df)\n",
    "\n",
    "sim_gdp = gdp_prior.sample(data=data_simulation_gdp, iter_warmup=500, iter_sampling=R, chains=1, seed=2001)\n",
    "sim_gdp_df = sim_gdp.draws_pd()"
   ]
  },
  {
   "cell_type": "code",
   "execution_count": 339,
   "metadata": {
    "metadata": {}
   },
   "outputs": [
    {
     "data": {
      "image/png": "[encoded data removed]",
      "text/plain": [
       "<Figure size 1080x720 with 1 Axes>"
      ]
     },
     "metadata": {
      "needs_background": "light"
     },
     "output_type": "display_data"
    }
   ],
   "source": [
    "plt.figure(figsize=(15,10))\n",
    "plt.title('Histogram of fertality rate [based on GPD per capita]')\n",
    "plt.hist([sim_gdp_df['y_pred[2]'], prior_df['Fertility rate']], bins=40, alpha=0.7, label=['Sampled', 'Real'], color=['blue', 'orange'])\n",
    "plt.legend()\n",
    "plt.ylabel('Density')\n",
    "plt.xlabel('Fertality rate')\n",
    "plt.show()"
   ]
  },
  {
   "cell_type": "markdown",
   "metadata": {},
   "source": [
    "### Labor force"
   ]
  },
  {
   "cell_type": "code",
   "execution_count": 361,
   "metadata": {},
   "outputs": [
    {
     "name": "stderr",
     "output_type": "stream",
     "text": [
      "INFO:cmdstanpy:compiling stan file /home/projekt/prior_percentage.stan to exe file /home/projekt/prior_percentage\n",
      "INFO:cmdstanpy:compiled model executable: /home/projekt/prior_percentage\n"
     ]
    }
   ],
   "source": [
    "percentage_prior = CmdStanModel(stan_file='prior_percentage.stan')"
   ]
  },
  {
   "cell_type": "code",
   "execution_count": 416,
   "metadata": {},
   "outputs": [],
   "source": [
    "data_simulation_labor = {\n",
    "    'N': len(prior_df),\n",
    "    'percentage_values': prior_df['Labor force rate'],\n",
    "    'mu_alpha': np.log(prior_df['Fertility rate'].mean()),\n",
    "    'sig_alpha': np.log(prior_df['Fertility rate'].std()),\n",
    "    'mu_beta': 0.1,\n",
    "    'sig_beta': 0.05,\n",
    "    'shape' : 4.1,\n",
    "    'rate' : 2\n",
    "}"
   ]
  },
  {
   "cell_type": "code",
   "execution_count": 417,
   "metadata": {},
   "outputs": [
    {
     "name": "stderr",
     "output_type": "stream",
     "text": [
      "INFO:cmdstanpy:CmdStan start processing\n",
      "chain 1 |\u001b[34m██████████\u001b[0m| 00:00 Sampling completed                       "
     ]
    },
    {
     "name": "stdout",
     "output_type": "stream",
     "text": [
      "                                                                                "
     ]
    },
    {
     "name": "stderr",
     "output_type": "stream",
     "text": [
      "\n",
      "INFO:cmdstanpy:CmdStan done processing.\n"
     ]
    },
    {
     "name": "stdout",
     "output_type": "stream",
     "text": [
      "\n"
     ]
    }
   ],
   "source": [
    "R = len(prior_df)\n",
    "\n",
    "sim_labor = percentage_prior.sample(data=data_simulation_labor, iter_warmup=500, iter_sampling=R, chains=1, seed=2001)\n",
    "sim_labor_df = sim_labor.draws_pd()"
   ]
  },
  {
   "cell_type": "code",
   "execution_count": 418,
   "metadata": {},
   "outputs": [
    {
     "data": {
      "image/png": "[encoded data removed]",
      "text/plain": [
       "<Figure size 1080x720 with 1 Axes>"
      ]
     },
     "metadata": {
      "needs_background": "light"
     },
     "output_type": "display_data"
    }
   ],
   "source": [
    "plt.figure(figsize=(15,10))\n",
    "plt.title('Histogram of fertality rate [based on labor force]')\n",
    "plt.hist([sim_labor_df['y_pred[2]'], prior_df['Fertility rate']], bins=40, alpha=0.7, label=['Sampled', 'Real'], color=['blue', 'orange'])\n",
    "plt.legend()\n",
    "plt.ylabel('Density')\n",
    "plt.xlabel('Fertality rate')\n",
    "plt.show()"
   ]
  },
  {
   "cell_type": "markdown",
   "metadata": {},
   "source": [
    "### Contraception"
   ]
  },
  {
   "cell_type": "code",
   "execution_count": 436,
   "metadata": {},
   "outputs": [],
   "source": [
    "data_simulation_contra = {\n",
    "    'N': len(prior_df),\n",
    "    'percentage_values': prior_df['Contraceptive prevalence'],\n",
    "    'mu_alpha': np.log(prior_df['Fertility rate'].mean()),\n",
    "    'sig_alpha': np.log(prior_df['Fertility rate'].std()),\n",
    "    'mu_beta': 0.1,\n",
    "    'sig_beta': 0.05,\n",
    "    'shape' : 4.1,\n",
    "    'rate' : 2.2\n",
    "}"
   ]
  },
  {
   "cell_type": "code",
   "execution_count": 437,
   "metadata": {},
   "outputs": [
    {
     "name": "stderr",
     "output_type": "stream",
     "text": [
      "INFO:cmdstanpy:CmdStan start processing\n",
      "chain 1 |\u001b[34m██████████\u001b[0m| 00:00 Sampling completed                       "
     ]
    },
    {
     "name": "stdout",
     "output_type": "stream",
     "text": [
      "                                                                                "
     ]
    },
    {
     "name": "stderr",
     "output_type": "stream",
     "text": [
      "\n",
      "INFO:cmdstanpy:CmdStan done processing.\n"
     ]
    },
    {
     "name": "stdout",
     "output_type": "stream",
     "text": [
      "\n"
     ]
    }
   ],
   "source": [
    "R = len(prior_df)\n",
    "\n",
    "sim_contra = percentage_prior.sample(data=data_simulation_contra, iter_warmup=500, iter_sampling=R, chains=1, seed=2001)\n",
    "sim_contra_df = sim_contra.draws_pd()"
   ]
  },
  {
   "cell_type": "code",
   "execution_count": 438,
   "metadata": {},
   "outputs": [
    {
     "data": {
      "image/png": "[encoded data removed]",
      "text/plain": [
       "<Figure size 1080x720 with 1 Axes>"
      ]
     },
     "metadata": {
      "needs_background": "light"
     },
     "output_type": "display_data"
    }
   ],
   "source": [
    "plt.figure(figsize=(15,10))\n",
    "plt.title('Histogram of fertality rate [based on contraceptive prevalence]')\n",
    "plt.hist([sim_contra_df['y_pred[2]'], prior_df['Fertility rate']], bins=40, alpha=0.7, label=['Sampled', 'Real'], color=['blue', 'orange'])\n",
    "plt.legend()\n",
    "plt.ylabel('Density')\n",
    "plt.xlabel('Fertality rate')\n",
    "plt.show()\n"
   ]
  },
  {
   "cell_type": "code",
   "execution_count": 439,
   "metadata": {
    "metadata": {}
   },
   "outputs": [],
   "source": [
    "#TODO Explain which priors where chosen and why?\n",
    "#TODO Have prior predictive checks been done for parameters? (simulated parameters makes sense)\n",
    "#TODO Have prior predictive checks been done for measurements? (simulated measurments makes sense)\n",
    "#TODO How prior parameters were selected?"
   ]
  },
  {
   "cell_type": "markdown",
   "metadata": {},
   "source": [
    "## Posterios analysis - model 1"
   ]
  },
  {
   "cell_type": "code",
   "execution_count": 454,
   "metadata": {},
   "outputs": [
    {
     "name": "stderr",
     "output_type": "stream",
     "text": [
      "INFO:cmdstanpy:found newer exe file, not recompiling\n"
     ]
    }
   ],
   "source": [
    "gdp_posterior = CmdStanModel(stan_file='posterior_gdp.stan')"
   ]
  },
  {
   "cell_type": "code",
   "execution_count": 478,
   "metadata": {},
   "outputs": [],
   "source": [
    "data_simulation_gdp_post = {\n",
    "    'N': len(prior_df),\n",
    "    'gdp_per_capita': prior_df['GDP per capita'].values/1000,\n",
    "    'fertility_rate' : prior_df['Fertility rate'].values,\n",
    "    'mu_alpha': np.log(prior_df['Fertility rate'].mean()),\n",
    "    'sig_alpha': np.log(prior_df['Fertility rate'].std()),\n",
    "    'mu_beta': 0.1,\n",
    "    'sig_beta': 0.05,\n",
    "    'shape' : 1.4,\n",
    "    'rate' : 1.55\n",
    "}"
   ]
  },
  {
   "cell_type": "code",
   "execution_count": 479,
   "metadata": {},
   "outputs": [
    {
     "name": "stderr",
     "output_type": "stream",
     "text": [
      "INFO:cmdstanpy:CmdStan start processing\n",
      "chain 1 |\u001b[34m██████████\u001b[0m| 00:02 Sampling completed                       "
     ]
    },
    {
     "name": "stdout",
     "output_type": "stream",
     "text": [
      "                                                                                "
     ]
    },
    {
     "name": "stderr",
     "output_type": "stream",
     "text": [
      "\n",
      "INFO:cmdstanpy:CmdStan done processing.\n"
     ]
    },
    {
     "name": "stdout",
     "output_type": "stream",
     "text": [
      "\n"
     ]
    }
   ],
   "source": [
    "R = len(prior_df)\n",
    "\n",
    "sim_post_gdp = gdp_posterior.sample(data=data_simulation_gdp_post, iter_warmup=500, iter_sampling=R, chains=1, seed=2001)\n",
    "sim_post_gdp_df = sim_post_gdp.draws_pd()"
   ]
  },
  {
   "cell_type": "code",
   "execution_count": 480,
   "metadata": {},
   "outputs": [
    {
     "data": {
      "image/png": "[encoded data removed]",
      "text/plain": [
       "<Figure size 1080x720 with 1 Axes>"
      ]
     },
     "metadata": {
      "needs_background": "light"
     },
     "output_type": "display_data"
    }
   ],
   "source": [
    "plt.figure(figsize=(15,10))\n",
    "plt.title('Histogram of fertality rate [based on GDP]')\n",
    "plt.hist([sim_post_gdp_df['y_pred[2]'], prior_df['Fertility rate']], bins=40, alpha=0.7, label=['Sampled', 'Real'], color=['blue', 'orange'])\n",
    "plt.legend()\n",
    "plt.ylabel('Density')\n",
    "plt.xlabel('Fertality rate')\n",
    "plt.show()"
   ]
  },
  {
   "cell_type": "code",
   "execution_count": 458,
   "metadata": {
    "metadata": {}
   },
   "outputs": [],
   "source": [
    "#TODO Any issues with sampling? If so, what ideas of mitigation were used?\n",
    "#TODO Are samples analyzed?\n",
    "#TODO Are the data consistent with posterior predictive samples and is it commented sufficiently? (if not is there justification)\n",
    "#TODO Have parameter marginal disrtibutions been analyzed (histograms of individual parametes plus summaries, are they diffuse or concentrated, what can we say about values)"
   ]
  },
  {
   "cell_type": "markdown",
   "metadata": {},
   "source": [
    "## Posterior analysis - model 2"
   ]
  },
  {
   "cell_type": "code",
   "execution_count": 462,
   "metadata": {},
   "outputs": [
    {
     "name": "stderr",
     "output_type": "stream",
     "text": [
      "INFO:cmdstanpy:compiling stan file /home/projekt/posterior_combined.stan to exe file /home/projekt/posterior_combined\n",
      "INFO:cmdstanpy:compiled model executable: /home/projekt/posterior_combined\n"
     ]
    }
   ],
   "source": [
    "posterior_combined = CmdStanModel(stan_file='posterior_combined.stan')"
   ]
  },
  {
   "cell_type": "code",
   "execution_count": 493,
   "metadata": {},
   "outputs": [],
   "source": [
    "data_simulation_posterior_combined = {\n",
    "    'N': len(prior_df),\n",
    "    'gdp_per_capita': prior_df['GDP per capita'].values/1000,\n",
    "    'labor_force' : prior_df['Labor force rate'],\n",
    "    'contaceptive_prevalence' : prior_df['Contraceptive prevalence'], \n",
    "    'fertility_rate' : prior_df['Fertility rate'].values,\n",
    "    'mu_alpha': np.log(prior_df['Fertility rate'].mean()),\n",
    "    'sig_alpha': np.log(prior_df['Fertility rate'].std()),\n",
    "    'mu_beta': 0.1,\n",
    "    'sig_beta': 0.05,\n",
    "    'shape' : 2,\n",
    "    'rate' : 1.75\n",
    "}"
   ]
  },
  {
   "cell_type": "code",
   "execution_count": 494,
   "metadata": {},
   "outputs": [
    {
     "name": "stderr",
     "output_type": "stream",
     "text": [
      "INFO:cmdstanpy:CmdStan start processing\n",
      "chain 1 |\u001b[33m          \u001b[0m| 00:00 Status"
     ]
    },
    {
     "name": "stderr",
     "output_type": "stream",
     "text": [
      "chain 1 |\u001b[34m██████████\u001b[0m| 00:06 Sampling completed                       "
     ]
    },
    {
     "name": "stdout",
     "output_type": "stream",
     "text": [
      "                                                                                "
     ]
    },
    {
     "name": "stderr",
     "output_type": "stream",
     "text": [
      "\n",
      "INFO:cmdstanpy:CmdStan done processing.\n"
     ]
    },
    {
     "name": "stdout",
     "output_type": "stream",
     "text": [
      "\n"
     ]
    }
   ],
   "source": [
    "R = len(prior_df)\n",
    "\n",
    "sim_combined = posterior_combined.sample(data=data_simulation_posterior_combined, iter_warmup=500, iter_sampling=R, chains=1, seed=2001)\n",
    "sim_post_gdp_df = sim_combined.draws_pd()"
   ]
  },
  {
   "cell_type": "code",
   "execution_count": 498,
   "metadata": {},
   "outputs": [
    {
     "data": {
      "image/png": "[encoded data removed]",
      "text/plain": [
       "<Figure size 1080x720 with 1 Axes>"
      ]
     },
     "metadata": {
      "needs_background": "light"
     },
     "output_type": "display_data"
    }
   ],
   "source": [
    "plt.figure(figsize=(15,10))\n",
    "plt.title('Histogram of fertality rate [based on combined factors]')\n",
    "plt.hist([sim_post_gdp_df['y_pred[2]'], prior_df['Fertility rate']], bins=40, alpha=0.7, label=['Sampled', 'Real'], color=['blue', 'orange'])\n",
    "plt.legend()\n",
    "plt.ylabel('Density')\n",
    "plt.xlabel('Fertality rate')\n",
    "plt.show()"
   ]
  },
  {
   "cell_type": "code",
   "execution_count": 496,
   "metadata": {
    "metadata": {}
   },
   "outputs": [],
   "source": [
    "#TODO Any issues with sampling? If so, what ideas of mitigation were used?\n",
    "#TODO Are samples analyzed?\n",
    "#TODO Are the data consistent with posterior predictive samples and is it commented sufficiently? (if not is there justification)\n",
    "#TODO Have parameter marginal disrtibutions been analyzed (histograms of individual parametes plus summaries, are they diffuse or concentrated, what can we say about values)"
   ]
  },
  {
   "cell_type": "markdown",
   "metadata": {},
   "source": [
    "## Model comparision"
   ]
  },
  {
   "cell_type": "code",
   "execution_count": 497,
   "metadata": {
    "metadata": {}
   },
   "outputs": [],
   "source": [
    "#TODO Have models been compared using information criteria\n",
    "#TODO Have result for WAIC been discussed (is there a clear winner, or is there an overlap, were there any warnings)\n",
    "#TODO Have result for PSIS-LOO been discussed (is there a clear winner, or is there an overlap, were there any warnings)\n",
    "#TODO Whas the model comparison discussed? Do authors agree with information criteria? Why in your opinion one model better than another"
   ]
  }
 ],
 "metadata": {
  "kernelspec": {
   "display_name": "base",
   "language": "python",
   "name": "python3"
  },
  "language_info": {
   "codemirror_mode": {
    "name": "ipython",
    "version": 3
   },
   "file_extension": ".py",
   "mimetype": "text/x-python",
   "name": "python",
   "nbconvert_exporter": "python",
   "pygments_lexer": "ipython3",
   "version": "3.9.11"
  }
 },
 "nbformat": 4,
 "nbformat_minor": 2
}
